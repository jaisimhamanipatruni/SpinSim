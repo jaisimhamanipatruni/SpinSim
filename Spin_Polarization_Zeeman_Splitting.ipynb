{
 "cells": [
  {
   "cell_type": "markdown",
   "id": "ed5ce6d0",
   "metadata": {},
   "source": [
    "# 🧲 Spin Polarization & Zeeman Splitting"
   ]
  },
  {
   "cell_type": "markdown",
   "id": "ed3eb878",
   "metadata": {},
   "source": [
    "\n",
    "This notebook demonstrates the effect of an external magnetic field on spin polarization using the **Zeeman effect**. It calculates and plots the population difference between spin-up and spin-down states at various temperatures.\n"
   ]
  },
  {
   "cell_type": "markdown",
   "id": "9b13f44e",
   "metadata": {},
   "source": [
    "\n",
    "## 🧠 Theory\n",
    "\n",
    "- **Zeeman Splitting** occurs when a magnetic field \\( B \\) causes energy level separation:\n",
    "\n",
    "  \\[\n",
    "  \\Delta E = 2\\mu_B B\n",
    "  \\]\n",
    "\n",
    "- **Spin Polarization (P)** is defined as:\n",
    "\n",
    "  \\[\n",
    "  P = \\frac{n_\\uparrow - n_\\downarrow}{n_\\uparrow + n_\\downarrow}\n",
    "  \\]\n",
    "\n",
    "- Where population follows Boltzmann distribution:\n",
    "\n",
    "  \\[\n",
    "  n_{\\uparrow,\\downarrow} \\propto e^{\\mp \\mu_B B / kT}\n",
    "  \\]\n",
    "\n",
    "Resulting in:\n",
    "\n",
    "\\[\n",
    "P(B, T) = \\tanh\\left(\\frac{\\mu_B B}{kT}\\right)\n",
    "\\]\n"
   ]
  },
  {
   "cell_type": "code",
   "execution_count": null,
   "id": "2039417b",
   "metadata": {},
   "outputs": [],
   "source": [
    "\n",
    "import numpy as np\n",
    "import matplotlib.pyplot as plt\n",
    "\n",
    "# Constants\n",
    "mu_B = 9.274e-24       # Bohr magneton (J/T)\n",
    "k_B = 1.381e-23        # Boltzmann constant (J/K)\n",
    "B = np.linspace(0, 5, 500)  # Magnetic field in Tesla\n"
   ]
  },
  {
   "cell_type": "code",
   "execution_count": null,
   "id": "39f94159",
   "metadata": {},
   "outputs": [],
   "source": [
    "\n",
    "def spin_polarization(B, T):\n",
    "    return np.tanh(mu_B * B / (k_B * T))\n",
    "\n",
    "# Plot for various temperatures\n",
    "temps = [1, 10, 100, 300]  # in Kelvin\n",
    "plt.figure(figsize=(8, 5))\n",
    "\n",
    "for T in temps:\n",
    "    P = spin_polarization(B, T)\n",
    "    plt.plot(B, P, label=f\"T = {T} K\")\n",
    "\n",
    "plt.title(\"Spin Polarization vs Magnetic Field\")\n",
    "plt.xlabel(\"Magnetic Field B (T)\")\n",
    "plt.ylabel(\"Spin Polarization P\")\n",
    "plt.legend()\n",
    "plt.grid(True)\n",
    "plt.show()\n"
   ]
  },
  {
   "cell_type": "markdown",
   "id": "6c04c64b",
   "metadata": {},
   "source": [
    "\n",
    "## 📌 Conclusion\n",
    "\n",
    "- At **low temperatures**, spin polarization saturates quickly with a small magnetic field.\n",
    "- At **high temperatures**, thermal agitation reduces net polarization.\n",
    "- The behavior follows the expected `tanh` response of Zeeman splitting.\n",
    "\n",
    "> ✅ This plot demonstrates the fundamental idea of **magnetically controlled spin imbalance** — a core concept in spintronics.\n"
   ]
  }
 ],
 "metadata": {},
 "nbformat": 4,
 "nbformat_minor": 5
}
